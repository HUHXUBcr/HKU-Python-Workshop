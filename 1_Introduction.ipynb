{
  "cells": [
    {
      "cell_type": "markdown",
      "metadata": {
        "id": "view-in-github",
        "colab_type": "text"
      },
      "source": [
        "<a href=\"https://colab.research.google.com/github/HUHXUBcr/HKU-Python-Workshop/blob/main/1_Introduction.ipynb\" target=\"_parent\"><img src=\"https://colab.research.google.com/assets/colab-badge.svg\" alt=\"Open In Colab\"/></a>"
      ]
    },
    {
      "cell_type": "markdown",
      "id": "2576b9a3-6056-4307-8b4a-b4ca771276c7",
      "metadata": {
        "tags": [],
        "id": "2576b9a3-6056-4307-8b4a-b4ca771276c7"
      },
      "source": [
        "> ### Python workshop\n",
        "> ## **_1. Introduction_**"
      ]
    },
    {
      "cell_type": "markdown",
      "id": "e2cbecfc-cbf9-4870-8415-fb04ded70968",
      "metadata": {
        "tags": [],
        "id": "e2cbecfc-cbf9-4870-8415-fb04ded70968"
      },
      "source": [
        "# Introduction to Programming"
      ]
    },
    {
      "cell_type": "markdown",
      "id": "ec2a993f-ce02-42f4-b610-c3aa42d1a4fc",
      "metadata": {
        "tags": [],
        "id": "ec2a993f-ce02-42f4-b610-c3aa42d1a4fc"
      },
      "source": [
        "## What is a program?\n",
        "- A program usually defines a **sequence** of statements to be executed one by one.\n",
        "- In a sequential, synchronous program, a program defines a flow of control that performs a task.\n",
        "\n",
        "  ![Flowchart: Hello World](https://i.cs.hku.hk/~yklam2/MScPy/img/1-1/flow-chart-hello-world.svg)"
      ]
    },
    {
      "cell_type": "markdown",
      "id": "7c5130ed-6af1-467a-845d-703352bd819e",
      "metadata": {
        "tags": [],
        "id": "7c5130ed-6af1-467a-845d-703352bd819e"
      },
      "source": [
        "### Here is our first program:"
      ]
    },
    {
      "cell_type": "code",
      "execution_count": null,
      "id": "b2749a93-5ccd-436b-b6e4-645efc0274b8",
      "metadata": {
        "id": "b2749a93-5ccd-436b-b6e4-645efc0274b8",
        "outputId": "2641a8e5-9ce1-4abf-ffee-395b994de2f8"
      },
      "outputs": [
        {
          "name": "stdout",
          "output_type": "stream",
          "text": [
            "Hello, world!\n"
          ]
        }
      ],
      "source": [
        "# Hello, world\n",
        "print('Hello, world!')"
      ]
    },
    {
      "cell_type": "markdown",
      "id": "87589262-e162-49e4-b562-c04e9eae1b60",
      "metadata": {
        "tags": [],
        "id": "87589262-e162-49e4-b562-c04e9eae1b60"
      },
      "source": [
        "## Hello, world explained\n",
        "\n",
        "- There are only two lines in our first program:\n",
        "- The first line is a comment, it documents **what** the program does.\n",
        "\n",
        "```python\n",
        "# Hello, world\n",
        "```\n",
        "\n",
        "- The second line is an **output** statement, it prints the string `Hello, world!` to the console.\n",
        "\n",
        "```python\n",
        "print('Hello, world!')\n",
        "```"
      ]
    },
    {
      "cell_type": "markdown",
      "id": "5636bf1b-f93c-413c-b150-b03bd997da54",
      "metadata": {
        "tags": [],
        "id": "5636bf1b-f93c-413c-b150-b03bd997da54"
      },
      "source": [
        "## Concepts: Program state\n",
        "\n",
        "- The previous program is not very useful. We hope to produce a more interesting output. But how is that possible?\n",
        "\n",
        "  ![Flowchart: Need Program State](https://i.cs.hku.hk/~yklam2/MScPy/img/1-1/flow-chart-program-state.svg)"
      ]
    },
    {
      "cell_type": "markdown",
      "id": "26b5a410",
      "metadata": {
        "id": "26b5a410"
      },
      "source": [
        "# Variables and I/O\n",
        "\n",
        "- To allow statements in a program to work collectively, we need to maintain a **program state**. A statement in a program produces result depending on the current program state, in the process, the program state may be changed.\n",
        "\n",
        "- We use **variables** to maintain such state.\n",
        "  - Program can accept inputs to alter the state.\n",
        "  - Program can change the state by results of computation.\n",
        "  - Program can output information according to the state."
      ]
    },
    {
      "cell_type": "markdown",
      "id": "29d89e91-ff51-4b3d-9b10-26fcee8c7f84",
      "metadata": {
        "tags": [],
        "id": "29d89e91-ff51-4b3d-9b10-26fcee8c7f84"
      },
      "source": [
        "## Concepts: variables and I/O\n",
        "\n",
        "- **Variables**: maintain program state\n",
        "- **Input**: collect information from user/external\n",
        "- **Output**: provide information to user/external\n",
        "\n",
        "  ![Flowchart: Introducing Variables and I/O](https://i.cs.hku.hk/~yklam2/MScPy/img/1-1/flow-chart-variables-IO.svg)"
      ]
    },
    {
      "cell_type": "markdown",
      "id": "ae5d02e3-5f0b-4eab-951d-820a41e42fd9",
      "metadata": {
        "tags": [],
        "id": "ae5d02e3-5f0b-4eab-951d-820a41e42fd9"
      },
      "source": [
        "### Example"
      ]
    },
    {
      "cell_type": "code",
      "execution_count": null,
      "id": "7059a526-564e-490e-b745-430ce7defc02",
      "metadata": {
        "id": "7059a526-564e-490e-b745-430ce7defc02",
        "outputId": "c8aa9da9-4636-4cd6-f22f-e7c0de7c6d68"
      },
      "outputs": [
        {
          "name": "stdout",
          "output_type": "stream",
          "text": [
            "Please input your name: K\n"
          ]
        },
        {
          "name": "stdout",
          "output_type": "stream",
          "text": [
            "Hello K\n"
          ]
        }
      ],
      "source": [
        "mystr = input('Please input your name:')\n",
        "print('Hello', mystr)"
      ]
    },
    {
      "cell_type": "markdown",
      "id": "4cd30a55-70d6-44d4-bccc-c3184e1abbaf",
      "metadata": {
        "id": "4cd30a55-70d6-44d4-bccc-c3184e1abbaf"
      },
      "source": [
        "- **`input()`** is used to ask user for an input, in the form of a string.\n",
        "- **`=`** operator is used to assign the result of `input()` to a variable named `mystr`.\n",
        "- **`print()`** is used to print some text."
      ]
    },
    {
      "cell_type": "markdown",
      "id": "d7aa5c19",
      "metadata": {
        "id": "d7aa5c19"
      },
      "source": [
        "### Another example"
      ]
    },
    {
      "cell_type": "code",
      "execution_count": null,
      "id": "f4f9d089",
      "metadata": {
        "id": "f4f9d089",
        "outputId": "80f1906c-7153-4359-c8d2-cba4a2f02bbe"
      },
      "outputs": [
        {
          "name": "stdout",
          "output_type": "stream",
          "text": [
            " 1\n"
          ]
        },
        {
          "name": "stdout",
          "output_type": "stream",
          "text": [
            "1.0 3.0\n"
          ]
        }
      ],
      "source": [
        "a = float(input())\n",
        "b = 2 * a + 1\n",
        "print(a, b)"
      ]
    },
    {
      "cell_type": "markdown",
      "id": "cbe6ec96",
      "metadata": {
        "id": "cbe6ec96"
      },
      "source": [
        "- We use `float(input())` to read a floating point value from user. Note that the input prompt is omitted.\n",
        "- It is possible to use basic arithmetic operations in Python."
      ]
    },
    {
      "cell_type": "markdown",
      "id": "6869352e",
      "metadata": {
        "id": "6869352e"
      },
      "source": [
        "# Quick Quiz\n",
        "\n",
        "What is the output of the following code?\n",
        "\n",
        "```python\n",
        "a = 34\n",
        "b = 80\n",
        "print(\"a\", \"+\", b, \"=\", a + b)\n",
        "```\n",
        "\n",
        "| A | B | C | D |\n",
        "| --- | --- | --- | --- |\n",
        "| `a + b = a + b` | `34 + b = 114` | `a + 80 = 114` | `34 + 80 = 114` |"
      ]
    },
    {
      "cell_type": "markdown",
      "id": "a9dffcd4",
      "metadata": {
        "id": "a9dffcd4"
      },
      "source": [
        "# Demonstration 1-1\n",
        "\n",
        "- Referring to the previous examples, write a program that reads **two floating-point values** and compute their harmonic mean.\n",
        "- Harmonic mean \\\\(H\\\\) of input values \\\\(a\\\\), and \\\\(b\\\\) can be calculated by the formula \\\\(\\frac{1}{H}=\\frac{1}{2}(\\frac{1}{a}+\\frac{1}{b})\\\\), or simply \\\\(H=\\frac{2ab}{a+b}\\\\).\n",
        "- Sample input/output:\n",
        "\n",
        "| Input    | Output |\n",
        "| ----     | ---    |\n",
        "| 1<br>4     | 1.6    |\n",
        "| 3<br>7     | 4.2    |\n",
        "| 3.7<br>4.3 | 3.9775 |"
      ]
    },
    {
      "cell_type": "markdown",
      "id": "5c83e3ec",
      "metadata": {
        "id": "5c83e3ec"
      },
      "source": [
        "# Self-learning topics\n",
        "\n",
        "Variable, operators and basic I/O\n",
        "- Values and variables\n",
        "- Output options\n",
        "- Arithmetic operators\n",
        "- Reading input from user"
      ]
    },
    {
      "cell_type": "markdown",
      "id": "2fe9206f",
      "metadata": {
        "id": "2fe9206f"
      },
      "source": [
        "## Values and Variables\n",
        "\n",
        "- To maintain program states, we associate values to names.\n",
        "- These names are called variables.\n",
        "- In Python, we use the **assignment operator** `=` to assign a value to a variable, for example:\n",
        "\n",
        "```python\n",
        "a = 10\n",
        "```\n",
        "\n",
        "- In many programming language, variable must be **declared** before it could be used.\n",
        "  - In Python, assigning a value to a name automatically declare the variable.\n",
        "- The **assignment operator** `=` will always assign the **value** on the right to the **variable** on the left.\n",
        "- In the above example, variable `a` is assigned a value of 10."
      ]
    },
    {
      "cell_type": "markdown",
      "id": "8da664bb",
      "metadata": {
        "id": "8da664bb"
      },
      "source": [
        "### Using variables\n",
        "\n",
        "If we assign a new value to a variable, the variable will be overwritten. For example:\n",
        "\n",
        "```python\n",
        "a = 10\n",
        "a = 20\n",
        "```\n",
        "\n",
        "In the above example, variable `a` is assigned a value of 20."
      ]
    },
    {
      "cell_type": "markdown",
      "id": "a2359a85",
      "metadata": {
        "id": "a2359a85"
      },
      "source": [
        "### Types of values\n",
        "\n",
        "A variable can be used to hold different types of values.\n",
        "Typical variable type in Python are **integer**, **floating-point**, and **string**.\n",
        "\n",
        "```python\n",
        "# integer/floating-point value\n",
        "a = 3\n",
        "b = 1.5\n",
        "# string (same for single quote or double quote)\n",
        "c = \"hello\"\n",
        "d = 'world'\n",
        "```"
      ]
    },
    {
      "cell_type": "markdown",
      "id": "93e4a3e6",
      "metadata": {
        "id": "93e4a3e6"
      },
      "source": [
        "### Boolean values\n",
        "\n",
        "Python also provide **boolean** values `True` and `False`. Their values are equivalent to integer `1` and `0` respectively.\n",
        "\n",
        "```python\n",
        "# boolean values\n",
        "e = True   # equals 1\n",
        "f = False  # equals 0\n",
        "```"
      ]
    },
    {
      "cell_type": "markdown",
      "id": "aafc435c",
      "metadata": {
        "id": "aafc435c"
      },
      "source": [
        "## Output options\n",
        "\n",
        "It is common to print a combination of values and variables. Consider the program below, the output is not desirable (try it!). Sometimes, we pefer printing values on the same line."
      ]
    },
    {
      "cell_type": "code",
      "execution_count": null,
      "id": "9c9437d1",
      "metadata": {
        "id": "9c9437d1",
        "outputId": "9c77ed56-8d91-4bb1-f460-97dc2db6b3fe"
      },
      "outputs": [
        {
          "name": "stdout",
          "output_type": "stream",
          "text": [
            "1\n",
            "+\n",
            "2\n",
            "=\n",
            "3\n"
          ]
        }
      ],
      "source": [
        "a = 1\n",
        "b = 2\n",
        "c = 3\n",
        "print(a)\n",
        "print('+')\n",
        "print(b)\n",
        "print('=')\n",
        "print(c)"
      ]
    },
    {
      "cell_type": "markdown",
      "id": "0460b227",
      "metadata": {
        "id": "0460b227"
      },
      "source": [
        "### Output multiple values\n",
        "\n",
        "We can print a list of values, separated by **commas** when we use `print()`, a space will be added between the values:"
      ]
    },
    {
      "cell_type": "code",
      "source": [
        "from google.colab import drive\n",
        "drive.mount('/content/drive')"
      ],
      "metadata": {
        "id": "PCaU-5OcFrQ1"
      },
      "id": "PCaU-5OcFrQ1",
      "execution_count": null,
      "outputs": []
    },
    {
      "cell_type": "code",
      "execution_count": null,
      "id": "f0130f7e",
      "metadata": {
        "id": "f0130f7e",
        "outputId": "0181c73d-d016-49c0-c610-fd105f9556ec"
      },
      "outputs": [
        {
          "name": "stdout",
          "output_type": "stream",
          "text": [
            "1 + 2 = 3\n"
          ]
        }
      ],
      "source": [
        "a = 1\n",
        "b = 2\n",
        "c = 3\n",
        "print(a, '+', b, '=', c)"
      ]
    },
    {
      "cell_type": "markdown",
      "id": "dd78220a",
      "metadata": {
        "id": "dd78220a"
      },
      "source": [
        "### Separator option: `sep`\n",
        "\n",
        "We can specify the **`sep`** option in `print()` to specify the separator to be used when printing multiple values."
      ]
    },
    {
      "cell_type": "code",
      "execution_count": null,
      "id": "c3f389d4",
      "metadata": {
        "id": "c3f389d4",
        "outputId": "a1f1f177-26c8-48d4-fde5-00aa6f21be30"
      },
      "outputs": [
        {
          "name": "stdout",
          "output_type": "stream",
          "text": [
            "1 2 3\n",
            "1,2,3\n"
          ]
        }
      ],
      "source": [
        "print(1, 2, 3)\n",
        "print(1, 2, 3, sep=',')"
      ]
    },
    {
      "cell_type": "markdown",
      "id": "f72a03aa",
      "metadata": {
        "id": "f72a03aa"
      },
      "source": [
        "### Ending option: `end`\n",
        "\n",
        "Another option for `print()` is **`end`**, which control how to end the printing.\n",
        "By default a **new line** is inserted."
      ]
    },
    {
      "cell_type": "code",
      "execution_count": null,
      "id": "e9b83939",
      "metadata": {
        "id": "e9b83939",
        "outputId": "55dbdabc-9e33-4125-e31b-a3056dd2ec7f"
      },
      "outputs": [
        {
          "name": "stdout",
          "output_type": "stream",
          "text": [
            "1 + 2 = 3\n"
          ]
        }
      ],
      "source": [
        "print(1, end=' + ')\n",
        "print(2, end=' = ')\n",
        "print(3)"
      ]
    },
    {
      "cell_type": "markdown",
      "id": "351269f2",
      "metadata": {
        "id": "351269f2"
      },
      "source": [
        "Sometimes it will be usful to end with an empty string. For example, when we want to output a single line with multiple print statements:"
      ]
    },
    {
      "cell_type": "code",
      "execution_count": null,
      "id": "fd54767c",
      "metadata": {
        "id": "fd54767c",
        "outputId": "23b7dca5-2c91-4e58-9a8f-c2c3164b458b"
      },
      "outputs": [
        {
          "name": "stdout",
          "output_type": "stream",
          "text": [
            "123\n"
          ]
        }
      ],
      "source": [
        "print(1, end='')\n",
        "print(2, end='')\n",
        "print(3)"
      ]
    },
    {
      "cell_type": "markdown",
      "id": "eb474c36",
      "metadata": {
        "id": "eb474c36"
      },
      "source": [
        "## Arithmetic operators\n",
        "\n",
        "For integer and floating point numbers, we can use the four **arithmetic operators**: `+`, `-`, `*` (multiply), and `/` (divide). For example:"
      ]
    },
    {
      "cell_type": "code",
      "execution_count": null,
      "id": "3952af7e",
      "metadata": {
        "id": "3952af7e",
        "outputId": "f72f6d2c-a94d-41ef-9786-6add8a5eec0a"
      },
      "outputs": [
        {
          "name": "stdout",
          "output_type": "stream",
          "text": [
            "3\n"
          ]
        }
      ],
      "source": [
        "print(1 + 2)"
      ]
    },
    {
      "cell_type": "code",
      "execution_count": null,
      "id": "3c8058e2",
      "metadata": {
        "id": "3c8058e2",
        "outputId": "081ea584-25e8-42ec-91f0-623e0b5a6569",
        "colab": {
          "base_uri": "https://localhost:8080/"
        }
      },
      "outputs": [
        {
          "output_type": "stream",
          "name": "stdout",
          "text": [
            "8.5\n"
          ]
        }
      ],
      "source": [
        "print(10 - 1.5)"
      ]
    },
    {
      "cell_type": "code",
      "execution_count": null,
      "id": "dc9c0562",
      "metadata": {
        "id": "dc9c0562",
        "outputId": "f3adb913-f760-4fb2-d26d-e5eda7f879c5"
      },
      "outputs": [
        {
          "name": "stdout",
          "output_type": "stream",
          "text": [
            "12\n"
          ]
        }
      ],
      "source": [
        "print(2 * 6)"
      ]
    },
    {
      "cell_type": "code",
      "execution_count": null,
      "id": "1558a82d",
      "metadata": {
        "id": "1558a82d",
        "outputId": "b9857472-2d41-4fc4-a07a-97f8eb2422cb"
      },
      "outputs": [
        {
          "name": "stdout",
          "output_type": "stream",
          "text": [
            "1.5\n"
          ]
        }
      ],
      "source": [
        "print(9 / 6)"
      ]
    },
    {
      "cell_type": "markdown",
      "id": "68fd13c0",
      "metadata": {
        "id": "68fd13c0"
      },
      "source": [
        "### Order of execution (operator precedence)\n",
        "\n",
        "When there are multiple operators in the same statement, the order of execution follows a certain rules. For the basic arithmetic operators, it follows the basic mathematics rules (multiplication and division first), and is processed left-to-right."
      ]
    },
    {
      "cell_type": "code",
      "execution_count": null,
      "id": "2a558750",
      "metadata": {
        "id": "2a558750",
        "outputId": "1747c52e-cc4f-4ef0-9f14-b8c5d9fd7366"
      },
      "outputs": [
        {
          "name": "stdout",
          "output_type": "stream",
          "text": [
            "0.6\n"
          ]
        }
      ],
      "source": [
        "print(1 + 2 * (3 - 4) / 5)"
      ]
    },
    {
      "cell_type": "markdown",
      "id": "758f3e2d",
      "metadata": {
        "id": "758f3e2d"
      },
      "source": [
        "If unsure, always add brackets to specify the order of execution.\n",
        "\n",
        "Reference: <https://docs.python.org/3/reference/expressions.html#operator-precedence>"
      ]
    },
    {
      "cell_type": "markdown",
      "id": "d4d128b6",
      "metadata": {
        "id": "d4d128b6"
      },
      "source": [
        "### Floating point division and floor division\n",
        "\n",
        "Operator `/` always results in a **floating point number**, even when both operands are integers."
      ]
    },
    {
      "cell_type": "code",
      "execution_count": null,
      "id": "90ccf8d6",
      "metadata": {
        "id": "90ccf8d6",
        "outputId": "c776be6f-153e-48f8-efac-7df7a7e7e479"
      },
      "outputs": [
        {
          "name": "stdout",
          "output_type": "stream",
          "text": [
            "10.0\n"
          ]
        }
      ],
      "source": [
        "a = 100\n",
        "b = 10\n",
        "print(a / b)"
      ]
    },
    {
      "cell_type": "markdown",
      "id": "69da4dd4",
      "metadata": {
        "id": "69da4dd4"
      },
      "source": [
        "If **integer division** is needed, we can use the floor division operator (`//`) instead.\n",
        "This operator will perform division and return the floor of the result.\n",
        "For example:"
      ]
    },
    {
      "cell_type": "code",
      "execution_count": null,
      "id": "7a5054e2",
      "metadata": {
        "id": "7a5054e2",
        "outputId": "4c80389c-b384-4505-fd07-d98d68694f33"
      },
      "outputs": [
        {
          "name": "stdout",
          "output_type": "stream",
          "text": [
            "1\n"
          ]
        }
      ],
      "source": [
        "print(9 // 6)"
      ]
    },
    {
      "cell_type": "code",
      "execution_count": null,
      "id": "4e80e872",
      "metadata": {
        "id": "4e80e872",
        "outputId": "946302b1-daf0-42da-d752-107fb46b5623"
      },
      "outputs": [
        {
          "name": "stdout",
          "output_type": "stream",
          "text": [
            "10\n"
          ]
        }
      ],
      "source": [
        "print(100 // 10)"
      ]
    },
    {
      "cell_type": "markdown",
      "id": "8eb597d9",
      "metadata": {
        "id": "8eb597d9"
      },
      "source": [
        "### Power operator\n",
        "\n",
        "The **power operator** `**` calculates and returns the value of a base raised to a specific power.\n",
        "\n",
        "Note: the `^` operator in Python is another operator, which will be discussed later (optional)."
      ]
    },
    {
      "cell_type": "code",
      "execution_count": null,
      "id": "314d2582",
      "metadata": {
        "id": "314d2582",
        "outputId": "99d631d6-dda7-4370-9cc4-8183f55a818a"
      },
      "outputs": [
        {
          "name": "stdout",
          "output_type": "stream",
          "text": [
            "100\n"
          ]
        }
      ],
      "source": [
        "print(10 ** 2)"
      ]
    },
    {
      "cell_type": "code",
      "execution_count": null,
      "id": "30b0f091",
      "metadata": {
        "id": "30b0f091",
        "outputId": "6416dfaf-5a5d-4f56-c3e8-96544881b2f5"
      },
      "outputs": [
        {
          "name": "stdout",
          "output_type": "stream",
          "text": [
            "1024\n"
          ]
        }
      ],
      "source": [
        "print(2 ** 10)"
      ]
    },
    {
      "cell_type": "markdown",
      "id": "babdd185",
      "metadata": {
        "id": "babdd185"
      },
      "source": [
        "### Modulo operator\n",
        "\n",
        "The **modulo** operator `%` calculates and returns the **remainder** of dividing first operand by the second operand.\n",
        "\n",
        "The two operators, `//` and `%` can be used to find the quotient and remainer of a division operation.\n",
        "\n",
        "If, `q = a // b` and `r = a % b`, then `a = b * q + r`.\n",
        "\n",
        "**This operator is extremely important in computer science.** (why?)"
      ]
    },
    {
      "cell_type": "code",
      "execution_count": null,
      "id": "39e02e46",
      "metadata": {
        "id": "39e02e46",
        "outputId": "c1a8709d-c6b7-4f4a-f4dc-a5c95cbe8721"
      },
      "outputs": [
        {
          "name": "stdout",
          "output_type": "stream",
          "text": [
            "1\n"
          ]
        }
      ],
      "source": [
        "print(100 % 3)"
      ]
    },
    {
      "cell_type": "code",
      "execution_count": null,
      "id": "ad9fbe72",
      "metadata": {
        "id": "ad9fbe72",
        "outputId": "4fa228f5-9a29-4a98-f4b5-27aff89a0c5d"
      },
      "outputs": [
        {
          "name": "stdout",
          "output_type": "stream",
          "text": [
            "2\n"
          ]
        }
      ],
      "source": [
        "print(100 % 7)"
      ]
    },
    {
      "cell_type": "markdown",
      "id": "82ef8628",
      "metadata": {
        "id": "82ef8628"
      },
      "source": [
        "## Reading input"
      ]
    },
    {
      "cell_type": "markdown",
      "id": "dea72fc5",
      "metadata": {
        "id": "dea72fc5"
      },
      "source": [
        "The `input()` function will always read a string from user."
      ]
    },
    {
      "cell_type": "code",
      "execution_count": null,
      "id": "312a5380",
      "metadata": {
        "id": "312a5380",
        "outputId": "b2657110-15d6-4283-ef59-e8fac9809066"
      },
      "outputs": [
        {
          "name": "stdout",
          "output_type": "stream",
          "text": [
            "Please input a string: Hi!\n"
          ]
        },
        {
          "name": "stdout",
          "output_type": "stream",
          "text": [
            "Hi!\n"
          ]
        }
      ],
      "source": [
        "a = input('Please input a string:')\n",
        "print(a)"
      ]
    },
    {
      "cell_type": "markdown",
      "id": "24092e24",
      "metadata": {
        "id": "24092e24"
      },
      "source": [
        "The part `'Please input a string:'` is a message to prompt user for input. It can be omitted:"
      ]
    },
    {
      "cell_type": "code",
      "execution_count": null,
      "id": "b8895a71",
      "metadata": {
        "id": "b8895a71",
        "outputId": "c417b3bb-35aa-4c96-b8bb-25cce50a5f66"
      },
      "outputs": [
        {
          "name": "stdout",
          "output_type": "stream",
          "text": [
            " Hi!\n"
          ]
        },
        {
          "name": "stdout",
          "output_type": "stream",
          "text": [
            "Hi!\n"
          ]
        }
      ],
      "source": [
        "a = input()\n",
        "print(a)"
      ]
    },
    {
      "cell_type": "markdown",
      "id": "52cc5d9e",
      "metadata": {
        "id": "52cc5d9e"
      },
      "source": [
        "### Reading integer or floating-point values\n",
        "\n",
        "As `input()` will always return a string, before we can use an input value in arithmetic calculation, we need to convert it to integer or floating point values. For example:"
      ]
    },
    {
      "cell_type": "code",
      "execution_count": null,
      "id": "eb0b1c2c",
      "metadata": {
        "id": "eb0b1c2c",
        "outputId": "dca211c9-bd50-4c91-81b5-4e53f47f7bb0"
      },
      "outputs": [
        {
          "name": "stdout",
          "output_type": "stream",
          "text": [
            " 1\n",
            " 2.3\n"
          ]
        },
        {
          "name": "stdout",
          "output_type": "stream",
          "text": [
            "1 + 2.3 = 3.3\n"
          ]
        }
      ],
      "source": [
        "a = int(input())\n",
        "b = float(input())\n",
        "print(a, '+', b, '=', a + b)"
      ]
    },
    {
      "cell_type": "markdown",
      "id": "81d52a4d",
      "metadata": {
        "id": "81d52a4d"
      },
      "source": [
        "## Quick Quiz\n",
        "\n",
        "What is the output of the following program? Try to derive the output before running the code for answer."
      ]
    },
    {
      "cell_type": "code",
      "execution_count": null,
      "id": "6c0449a8",
      "metadata": {
        "id": "6c0449a8"
      },
      "outputs": [],
      "source": [
        "print('Hello', 'oh', sep=',', end=' ')\n",
        "print('my', 'world', sep='', end='!')"
      ]
    },
    {
      "cell_type": "markdown",
      "id": "b466c511",
      "metadata": {
        "id": "b466c511"
      },
      "source": [
        "## Self-evaluation exercises\n",
        "\n",
        "- You can attempt these exercises on VPL (on Moodle).\n",
        "- When doing exercises on VPL, you can press the \"evaluate\" button to evaluate your work. However, you must follow the exact input/output requirement to pass the test cases."
      ]
    },
    {
      "cell_type": "markdown",
      "id": "f2f62e02",
      "metadata": {
        "id": "f2f62e02"
      },
      "source": [
        "## Exercise 1-1\n",
        "\n",
        "- Write a program that convert time period (in seconds) to the long format represented by the pattern `?h ?m ?s`.\n",
        "- Sample input/output:\n",
        "\n",
        "| Input   | Output |\n",
        "| ----    | ---    |\n",
        "| 100     | 0h 1m 40s |\n",
        "| 10000   | 2h 46m 40s |\n",
        "| 1000000 | 277h 46m 40s |"
      ]
    },
    {
      "cell_type": "code",
      "source": [
        "time = int(input())\n",
        "hour = time // 3600\n",
        "minute = time % 3600 // 60\n",
        "second = time % 3600 % 60\n",
        "print(f\"{hour}h {minute}m {second}s\")"
      ],
      "metadata": {
        "id": "RZSf-A1YEE9y",
        "outputId": "60b11ae4-526c-4a9b-d475-4858fbbabe8f",
        "colab": {
          "base_uri": "https://localhost:8080/"
        }
      },
      "id": "RZSf-A1YEE9y",
      "execution_count": null,
      "outputs": [
        {
          "output_type": "stream",
          "name": "stdout",
          "text": [
            "1000000\n",
            "277h 46m 40s\n"
          ]
        }
      ]
    },
    {
      "cell_type": "markdown",
      "id": "5cdef390",
      "metadata": {
        "id": "5cdef390"
      },
      "source": [
        "# Optional topics\n",
        "\n",
        "These topics are optional. You are encourage to read them when you have time to understand more about the Python programming language.\n",
        "\n",
        "- Bitwise operators\n",
        "- Type hint"
      ]
    },
    {
      "cell_type": "markdown",
      "id": "66c35ac5",
      "metadata": {
        "id": "66c35ac5"
      },
      "source": [
        "## Bitwise operators"
      ]
    },
    {
      "cell_type": "markdown",
      "id": "aa8b1d09",
      "metadata": {
        "id": "aa8b1d09"
      },
      "source": [
        "### Number base\n",
        "\n",
        "Apart from base 10 numbers, we can define numbers with base 2, 8 and 16 in Python.\n",
        "- Base 2 number is prefixed by pattern `0b`.\n",
        "- Base 8 number is prefixed by pattern `0o`.\n",
        "- Base 16 number is prefixed by pattern `0x`."
      ]
    },
    {
      "cell_type": "code",
      "execution_count": null,
      "id": "e1f09e92",
      "metadata": {
        "id": "e1f09e92",
        "outputId": "2b132827-676f-49bf-c7c1-035fe00bf293"
      },
      "outputs": [
        {
          "name": "stdout",
          "output_type": "stream",
          "text": [
            "212\n"
          ]
        }
      ],
      "source": [
        "print(0b011010100)"
      ]
    },
    {
      "cell_type": "code",
      "execution_count": null,
      "id": "77d1bfcf",
      "metadata": {
        "id": "77d1bfcf",
        "outputId": "878d47fe-8289-48a9-de75-0f8469e17411"
      },
      "outputs": [
        {
          "name": "stdout",
          "output_type": "stream",
          "text": [
            "212\n"
          ]
        }
      ],
      "source": [
        "print(0o324)"
      ]
    },
    {
      "cell_type": "code",
      "execution_count": null,
      "id": "d029b6ef",
      "metadata": {
        "id": "d029b6ef",
        "outputId": "6f023768-5890-4b0a-c451-1132b54bace3"
      },
      "outputs": [
        {
          "name": "stdout",
          "output_type": "stream",
          "text": [
            "212\n"
          ]
        }
      ],
      "source": [
        "print(0xD4)"
      ]
    },
    {
      "cell_type": "markdown",
      "id": "f80de2a2",
      "metadata": {
        "id": "f80de2a2"
      },
      "source": [
        "### Binary representation\n",
        "\n",
        "- In a computer, all values are stored as binary numbers.\n",
        "- So number `212` is internally stored as `0b11010100`.\n",
        "- These numbers are left-padded with zeros to match with the bit-length.\n",
        "Therefore the number `212` is actually stored as `0b00...011010100`.\n",
        "- Note that in a signed representation, numbers are stored in [2's complement](https://en.wikipedia.org/wiki/Two%27s_complement) representation."
      ]
    },
    {
      "cell_type": "markdown",
      "id": "3c013167",
      "metadata": {
        "id": "3c013167"
      },
      "source": [
        "### Bitwise operations\n",
        "\n",
        "Bitwise operations apply on numbers bit by bit, for example, the AND operation (`&`) on values 12 (`0b01100`) and 10 (`0b01010`) will be:\n",
        "\n",
        "```text\n",
        "  00...01100 (12)\n",
        "& 00...01010 (10)\n",
        "------------------\n",
        "  00...01000 ( 8)\n",
        "```\n",
        "\n",
        "Only one of the bits above will give a result of 1 as both operands are 1."
      ]
    },
    {
      "cell_type": "markdown",
      "id": "39a36755",
      "metadata": {
        "id": "39a36755"
      },
      "source": [
        "### Bitwise logical operators"
      ]
    },
    {
      "cell_type": "markdown",
      "id": "3de60164",
      "metadata": {
        "id": "3de60164"
      },
      "source": [
        "#### AND / OR / XOR\n",
        "\n",
        "Bitwise logical operators includes AND (`&`), OR (`|`), and [XOR](https://en.wikipedia.org/wiki/Exclusive_or) (`^`), for example:"
      ]
    },
    {
      "cell_type": "code",
      "execution_count": null,
      "id": "e083e72e",
      "metadata": {
        "id": "e083e72e",
        "outputId": "d6e4f647-8af3-497a-f11c-3094f1d3a2b3"
      },
      "outputs": [
        {
          "name": "stdout",
          "output_type": "stream",
          "text": [
            "8 14 6\n"
          ]
        }
      ],
      "source": [
        "a = 0b01100\n",
        "b = 0b01010\n",
        "print(a & b, a | b, a ^ b)"
      ]
    },
    {
      "cell_type": "markdown",
      "id": "ab15145f",
      "metadata": {
        "id": "ab15145f"
      },
      "source": [
        "#### NOT\n",
        "\n",
        "There is also the negation operator (`~`) which inverts all the bits.\n",
        "For example, positive value `01100` (`00...01100`) will becomes `11...10011`.\n",
        "\n",
        "In [2's complement](https://en.wikipedia.org/wiki/Two%27s_complement) representation. The above value equals `-13`."
      ]
    },
    {
      "cell_type": "code",
      "execution_count": null,
      "id": "40529134",
      "metadata": {
        "id": "40529134",
        "outputId": "781ff131-c422-4980-acb2-1ab906f230c6"
      },
      "outputs": [
        {
          "name": "stdout",
          "output_type": "stream",
          "text": [
            "-13 -11\n"
          ]
        }
      ],
      "source": [
        "a = 0b01100\n",
        "b = 0b01010\n",
        "print(~a, ~b)"
      ]
    },
    {
      "cell_type": "markdown",
      "id": "ed3bf618",
      "metadata": {
        "id": "ed3bf618"
      },
      "source": [
        "### Shift Operators\n",
        "\n",
        "Shift operators shift the binary pattern to the left (`<<`) or right (`>>`). For example:"
      ]
    },
    {
      "cell_type": "code",
      "execution_count": null,
      "id": "be5c75ce",
      "metadata": {
        "id": "be5c75ce",
        "outputId": "ed7582ac-7575-43e9-c277-fb13f9372d43"
      },
      "outputs": [
        {
          "name": "stdout",
          "output_type": "stream",
          "text": [
            "3 26\n"
          ]
        }
      ],
      "source": [
        "x = 0b01101\n",
        "print(x >> 2, x << 1)"
      ]
    },
    {
      "cell_type": "markdown",
      "id": "d1e6cbc3",
      "metadata": {
        "id": "d1e6cbc3"
      },
      "source": [
        "`x >> 2` shifts value `0b00...01101` (13) two positions to the right, therefore the result is `0b00...011` (3). Similarly, `x << 1` shifts the same value one position to the left, so the result is `0b00...011010` (26)."
      ]
    },
    {
      "cell_type": "markdown",
      "id": "70e26914",
      "metadata": {
        "id": "70e26914"
      },
      "source": [
        "## Type hint"
      ]
    },
    {
      "cell_type": "markdown",
      "id": "e404026d",
      "metadata": {
        "id": "e404026d"
      },
      "source": [
        "### Every value has a \"type\"\n",
        "\n",
        "We can check the type of a value using `type()`."
      ]
    },
    {
      "cell_type": "code",
      "execution_count": null,
      "id": "c27f4ea7",
      "metadata": {
        "id": "c27f4ea7",
        "outputId": "020d7ddb-bc09-453e-f4d6-a1c4d76d6dd0"
      },
      "outputs": [
        {
          "name": "stdout",
          "output_type": "stream",
          "text": [
            "<class 'int'>\n",
            "<class 'float'>\n",
            "<class 'str'>\n"
          ]
        }
      ],
      "source": [
        "print(type(1))\n",
        "print(type(3.14))\n",
        "print(type('Hello'))"
      ]
    },
    {
      "cell_type": "markdown",
      "id": "32fe25bd",
      "metadata": {
        "id": "32fe25bd"
      },
      "source": [
        "### Variable type\n",
        "\n",
        "When we assign a value to a variable, the type of variable changes accordingly."
      ]
    },
    {
      "cell_type": "code",
      "execution_count": null,
      "id": "88644d3b",
      "metadata": {
        "id": "88644d3b",
        "outputId": "52933e30-a04b-488b-c751-df4d4898fe9b"
      },
      "outputs": [
        {
          "name": "stdout",
          "output_type": "stream",
          "text": [
            "<class 'int'>\n",
            "<class 'float'>\n",
            "<class 'str'>\n"
          ]
        }
      ],
      "source": [
        "a = 1\n",
        "print(type(a))\n",
        "a = 3.14\n",
        "print(type(a))\n",
        "a = 'Hello'\n",
        "print(type(a))"
      ]
    },
    {
      "cell_type": "markdown",
      "id": "6751e2f8",
      "metadata": {
        "id": "6751e2f8"
      },
      "source": [
        "### Type hint\n",
        "\n",
        "It is always advised to keep the type of a variable unchanged. In many programming languages, you have to declare the type for a variable before you can use it. In Python, it is not necessary but possible."
      ]
    },
    {
      "cell_type": "code",
      "execution_count": null,
      "id": "bfa808ad",
      "metadata": {
        "id": "bfa808ad",
        "outputId": "bad99140-70a9-4d43-c65f-2baabfa96723"
      },
      "outputs": [
        {
          "name": "stdout",
          "output_type": "stream",
          "text": [
            "<class 'int'> <class 'float'> <class 'str'>\n"
          ]
        }
      ],
      "source": [
        "myInt: int = 1\n",
        "myFloat: float = 3.14\n",
        "myStr: str = 'Hello'\n",
        "print(type(myInt), type(myFloat), type(myStr))"
      ]
    },
    {
      "cell_type": "markdown",
      "id": "77006742",
      "metadata": {
        "id": "77006742"
      },
      "source": [
        "### But it's just a \"hint\"\n",
        "\n",
        "Type hint has no effect during code execution, it is a hint for developers and for the IDE to detect possible error in your program. Variable type will still be changed if you assign value of diffeent type to it."
      ]
    },
    {
      "cell_type": "code",
      "execution_count": null,
      "id": "e368349f",
      "metadata": {
        "id": "e368349f",
        "outputId": "fb8cbbd8-c05b-4b2f-ba84-66e2e4f79d3e"
      },
      "outputs": [
        {
          "name": "stdout",
          "output_type": "stream",
          "text": [
            "<class 'float'>\n"
          ]
        }
      ],
      "source": [
        "myInt: int = 1\n",
        "myInt = 3.14\n",
        "print(type(myInt))"
      ]
    }
  ],
  "metadata": {
    "celltoolbar": "Slideshow",
    "kernelspec": {
      "display_name": "Python 3 (ipykernel)",
      "language": "python",
      "name": "python3"
    },
    "language_info": {
      "codemirror_mode": {
        "name": "ipython",
        "version": 3
      },
      "file_extension": ".py",
      "mimetype": "text/x-python",
      "name": "python",
      "nbconvert_exporter": "python",
      "pygments_lexer": "ipython3",
      "version": "3.13.6"
    },
    "toc-showmarkdowntxt": false,
    "colab": {
      "provenance": [],
      "include_colab_link": true
    }
  },
  "nbformat": 4,
  "nbformat_minor": 5
}